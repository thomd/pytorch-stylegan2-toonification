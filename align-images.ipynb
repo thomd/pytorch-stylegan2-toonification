{
 "cells": [
  {
   "cell_type": "markdown",
   "id": "6516ddb7-5930-4d3c-80c3-43488b420491",
   "metadata": {},
   "source": [
    "### Cartoon Face Alignment\n",
    "\n",
    "As we are going to apply transfer-learning on the **FFHQ_1024 model**, we have to **resize** all images to 1024&times;1024 and **align** all \n",
    "cartoon images to have similar face-keypoint positions as the face images from the [Flickr Faces HQ dataset](https://github.com/NVlabs/ffhq-dataset) used to train the FFHQ model.\n",
    "\n",
    "In oder to find face-keypoints, we need to begin with detecting cartoon faces.\n",
    "\n",
    "The [dlib](http://dlib.net/) library provides two functions that can be used for cartoon face detection:\n",
    "\n",
    "1. **HOG + Linear SVM** face detection (fast and less accurate)\n",
    "2. **MMOD CNN** face detector (slow and more accurate)\n",
    "\n",
    "We detect 68 face landmarks using the **pretrained landmarks detector** model [shape_predictor_68_face_landmarks](http://dlib.net/files/shape_predictor_68_face_landmarks.dat.bz2) from dlib."
   ]
  },
  {
   "cell_type": "code",
   "execution_count": 1,
   "id": "36e9a93e-a8da-4405-aac8-53d3de86e2a9",
   "metadata": {},
   "outputs": [
    {
     "name": "stdout",
     "output_type": "stream",
     "text": [
      "usage: align_image_data.py [-h] [--images-source PATH] [--image-source PATH]\n",
      "                           [--images-target PATH] [--output-size SIZE]\n",
      "                           [--model {hog,mmod}] [--metadata]\n",
      "\n",
      "Align face images using face-detection and face-landmarks\n",
      "\n",
      "optional arguments:\n",
      "  -h, --help            show this help message and exit\n",
      "  --images-source PATH  path to source folder of face images (default: faces)\n",
      "  --image-source PATH   path to a single face image (default: None)\n",
      "  --images-target PATH  path to target folder for aligned face images\n",
      "                        (default: faces-aligned)\n",
      "  --output-size SIZE    target image size (default: 1024)\n",
      "  --model {hog,mmod}    face detector model (default: mmod)\n",
      "  --metadata            store metadata (faces, landmarks) (default: False)\n"
     ]
    }
   ],
   "source": [
    "!python align_image_data.py --help"
   ]
  },
  {
   "cell_type": "code",
   "execution_count": 2,
   "id": "20138cbe-c710-4fbc-b6f7-9a430768e902",
   "metadata": {},
   "outputs": [
    {
     "name": "stdout",
     "output_type": "stream",
     "text": [
      "\n",
      "Aligning 816 images using the 'mmod' model\n",
      "100%|███████████████████████████████████████| 816/816 [1:44:01<00:00,  7.65s/it]\n"
     ]
    }
   ],
   "source": [
    "!python align_image_data.py --images-source faces --images-target faces-aligned --metadata"
   ]
  },
  {
   "cell_type": "markdown",
   "id": "767bb6bd-ccea-4eef-b480-e8835a7d4b07",
   "metadata": {},
   "source": [
    "### Aligned Images with Landmarks\n",
    "\n",
    "Delete Images using the `remove` button"
   ]
  },
  {
   "cell_type": "code",
   "execution_count": null,
   "id": "8a61770b-3b71-49a9-9691-4316b87a99f8",
   "metadata": {},
   "outputs": [],
   "source": [
    "from utils import print_images\n",
    "print_images(source_folder='faces', target_folder='faces-aligned', image_filter='aligned', landmarks=True, image_count=20)"
   ]
  },
  {
   "cell_type": "markdown",
   "id": "b7a40c09-503d-4609-a6af-bf02394ad7ba",
   "metadata": {},
   "source": [
    "### Images whose faces were not detected"
   ]
  },
  {
   "cell_type": "code",
   "execution_count": null,
   "id": "d063d87d-d5e0-487f-9293-878a9b464aa7",
   "metadata": {},
   "outputs": [],
   "source": [
    "from utils import print_images\n",
    "print_images(source_folder='faces', target_folder='faces-aligned', image_filter='missed')"
   ]
  },
  {
   "cell_type": "code",
   "execution_count": null,
   "id": "26578ef8-9012-43ce-b967-48582d4d3d8d",
   "metadata": {},
   "outputs": [],
   "source": []
  }
 ],
 "metadata": {
  "kernelspec": {
   "display_name": "Python 3 (ipykernel)",
   "language": "python",
   "name": "python3"
  },
  "language_info": {
   "codemirror_mode": {
    "name": "ipython",
    "version": 3
   },
   "file_extension": ".py",
   "mimetype": "text/x-python",
   "name": "python",
   "nbconvert_exporter": "python",
   "pygments_lexer": "ipython3",
   "version": "3.8.13"
  }
 },
 "nbformat": 4,
 "nbformat_minor": 5
}
